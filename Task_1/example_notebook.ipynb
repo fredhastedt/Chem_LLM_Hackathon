{
 "cells": [
  {
   "cell_type": "markdown",
   "metadata": {},
   "source": [
    "# Notebook Information\n",
    "----------------------\n",
    "**Created By:**   Steven Bennett, Friedrich Hastedt\n",
    "\n",
    "This is an example notebook for task 1. The goal of task 1 is to develop a model that is able to perform single-step retrosynthesis prediction. Specifically, the goal of the model is given a target molecule, the model should be able to predict a single reaction step that will produce the target molecule from one or more reagents.\n",
    "The model will be evaluated in X different ways:\n",
    "\n",
    "TODO \n",
    "\n",
    "From these evaluation metrics, we will provide a final score for each model, using a weighted average of the different metrics. The final score will be used to rank each team on the GitHub leaderboard.\n",
    "\n",
    "\n",
    "## Notebook Contents\n",
    "----------------------\n",
    "\n",
    "In this notebook, we will show an example of using a pre-trained model as a starting point to generate the output file for submission to the competition. The notebook will cover the following steps:\n",
    "\n",
    "1. Loading the pre-trained model, and performing data pre-processing steps\n",
    "2. Generating predictions on the held-out test set and saving the output file\n",
    "3. Performing a single fine-tuning step on the pre-trained model\n",
    "4. Generating predictions using OpenAI-API to generate predictions using the GPT series of models\n",
    "\n",
    "You are free to experiment with as many different models as you like, and this notebook only serves as an example of how to get started. You are free to use any other models that you like, including using ChatGPT to make prediction, and you are free to use any other data that you like. \n",
    "The only requirement is that the test set data is used to generate the output file for the submission."
   ]
  },
  {
   "cell_type": "code",
   "execution_count": 4,
   "metadata": {},
   "outputs": [],
   "source": [
    "%load_ext autoreload\n",
    "%autoreload 2"
   ]
  },
  {
   "cell_type": "code",
   "execution_count": 1,
   "metadata": {},
   "outputs": [
    {
     "name": "stderr",
     "output_type": "stream",
     "text": [
      "/rds/general/user/sb2518/home/Postdoc/Datathon_LLM/RetroTask_Venv/lib/python3.6/site-packages/tqdm/auto.py:22: TqdmWarning: IProgress not found. Please update jupyter and ipywidgets. See https://ipywidgets.readthedocs.io/en/stable/user_install.html\n",
      "  from .autonotebook import tqdm as notebook_tqdm\n"
     ]
    }
   ],
   "source": [
    "from example_model import Model\n",
    "from eval import TopK"
   ]
  },
  {
   "cell_type": "code",
   "execution_count": 2,
   "metadata": {},
   "outputs": [],
   "source": [
    "model = Model(\n",
    "    model_path=\"Models/USPTO50_model_step_500000.pt\", \n",
    ")"
   ]
  },
  {
   "cell_type": "code",
   "execution_count": 3,
   "metadata": {},
   "outputs": [
    {
     "name": "stderr",
     "output_type": "stream",
     "text": [
      "/rds/general/user/sb2518/home/Postdoc/Datathon_LLM/RetroTask_Venv/lib/python3.6/site-packages/torchtext/data/field.py:359: UserWarning: To copy construct from a tensor, it is recommended to use sourceTensor.clone().detach() or sourceTensor.clone().detach().requires_grad_(True), rather than torch.tensor(sourceTensor).\n",
      "  var = torch.tensor(arr, dtype=self.dtype, device=device)\n",
      "/pytorch/aten/src/ATen/native/BinaryOps.cpp:81: UserWarning: Integer division of tensors using div or / is deprecated, and in a future release div will perform true division as in Python 3. Use true_divide or floor_divide (// in Python) instead.\n"
     ]
    },
    {
     "name": "stdout",
     "output_type": "stream",
     "text": [
      "PRED AVG SCORE: -0.0013, PRED PPL: 1.0013\n"
     ]
    }
   ],
   "source": [
    "results = model.predict(\n",
    "    source_path='Data/example_src_small.txt',\n",
    "    num_predictions=10,\n",
    "    batch_size=100,\n",
    "    beam_size=10\n",
    ")"
   ]
  },
  {
   "cell_type": "code",
   "execution_count": 5,
   "metadata": {},
   "outputs": [],
   "source": [
    "with open(\"/rds/general/user/sb2518/home/Postdoc/Datathon_LLM/Fred_Folder/Hackathon/example_notebooks/USPTO50/tgt-test.txt\", 'r') as f:\n",
    "    targets = f.read().replace(\" \", \"\").split('\\n')"
   ]
  },
  {
   "cell_type": "code",
   "execution_count": 6,
   "metadata": {},
   "outputs": [],
   "source": [
    "targets = {\n",
    "    list(results.keys())[i]: targets[i]\n",
    "    for i in range(len(results))\n",
    "}"
   ]
  },
  {
   "cell_type": "code",
   "execution_count": 11,
   "metadata": {},
   "outputs": [],
   "source": [
    "topk = TopK(k=10)"
   ]
  },
  {
   "cell_type": "code",
   "execution_count": 20,
   "metadata": {},
   "outputs": [
    {
     "name": "stderr",
     "output_type": "stream",
     "text": [
      "RDKit ERROR: [13:30:22] SMILES Parse Error: syntax error while parsing: O=[N+](\n",
      "RDKit ERROR: [13:30:22] SMILES Parse Error: Failed parsing SMILES 'O=[N+](' for input: 'O=[N+]('\n",
      "RDKit ERROR: [13:30:22] SMILES Parse Error: syntax error while parsing: O=[N+](\n",
      "RDKit ERROR: [13:30:22] SMILES Parse Error: Failed parsing SMILES 'O=[N+](' for input: 'O=[N+]('\n"
     ]
    },
    {
     "ename": "ArgumentError",
     "evalue": "Python argument types in\n    rdkit.Chem.rdmolfiles.MolToSmiles(NoneType)\ndid not match C++ signature:\n    MolToSmiles(RDKit::ROMol mol, bool isomericSmiles=True, bool kekuleSmiles=False, int rootedAtAtom=-1, bool canonical=True, bool allBondsExplicit=False, bool allHsExplicit=False, bool doRandom=False)\n    MolToSmiles(RDKit::ROMol mol, RDKit::SmilesWriteParams params)",
     "output_type": "error",
     "traceback": [
      "\u001b[0;31m---------------------------------------------------------------------------\u001b[0m",
      "\u001b[0;31mArgumentError\u001b[0m                             Traceback (most recent call last)",
      "\u001b[0;32m<ipython-input-20-deeebe203a9a>\u001b[0m in \u001b[0;36m<module>\u001b[0;34m\u001b[0m\n\u001b[0;32m----> 1\u001b[0;31m \u001b[0mtopk\u001b[0m\u001b[0;34m(\u001b[0m\u001b[0mresults\u001b[0m\u001b[0;34m,\u001b[0m \u001b[0mtargets\u001b[0m\u001b[0;34m)\u001b[0m\u001b[0;34m\u001b[0m\u001b[0;34m\u001b[0m\u001b[0m\n\u001b[0m",
      "\u001b[0;32m~/Postdoc/Datathon_LLM/Main_Repo/Task_1/eval.py\u001b[0m in \u001b[0;36m__call__\u001b[0;34m(self, results, targets)\u001b[0m\n\u001b[1;32m     67\u001b[0m         \u001b[0;32mfor\u001b[0m \u001b[0mtarget\u001b[0m\u001b[0;34m,\u001b[0m \u001b[0mreaction\u001b[0m \u001b[0;32min\u001b[0m \u001b[0mresults\u001b[0m\u001b[0;34m.\u001b[0m\u001b[0mitems\u001b[0m\u001b[0;34m(\u001b[0m\u001b[0;34m)\u001b[0m\u001b[0;34m:\u001b[0m\u001b[0;34m\u001b[0m\u001b[0;34m\u001b[0m\u001b[0m\n\u001b[1;32m     68\u001b[0m             \u001b[0;32mfor\u001b[0m \u001b[0mk\u001b[0m\u001b[0;34m,\u001b[0m \u001b[0mreactants\u001b[0m \u001b[0;32min\u001b[0m \u001b[0menumerate\u001b[0m\u001b[0;34m(\u001b[0m\u001b[0mreaction\u001b[0m\u001b[0;34m)\u001b[0m\u001b[0;34m:\u001b[0m\u001b[0;34m\u001b[0m\u001b[0;34m\u001b[0m\u001b[0m\n\u001b[0;32m---> 69\u001b[0;31m                 \u001b[0mreactant_identical\u001b[0m \u001b[0;34m=\u001b[0m \u001b[0mself\u001b[0m\u001b[0;34m.\u001b[0m\u001b[0mcheck_reactant_str\u001b[0m\u001b[0;34m(\u001b[0m\u001b[0mreactants\u001b[0m\u001b[0;34m,\u001b[0m \u001b[0mtargets\u001b[0m\u001b[0;34m[\u001b[0m\u001b[0mtarget\u001b[0m\u001b[0;34m]\u001b[0m\u001b[0;34m)\u001b[0m\u001b[0;34m\u001b[0m\u001b[0;34m\u001b[0m\u001b[0m\n\u001b[0m\u001b[1;32m     70\u001b[0m                 \u001b[0;32mif\u001b[0m \u001b[0mreactant_identical\u001b[0m \u001b[0;32mis\u001b[0m \u001b[0;32mTrue\u001b[0m\u001b[0;34m:\u001b[0m\u001b[0;34m\u001b[0m\u001b[0;34m\u001b[0m\u001b[0m\n\u001b[1;32m     71\u001b[0m                     \u001b[0;32mif\u001b[0m \u001b[0mk\u001b[0m\u001b[0;34m+\u001b[0m\u001b[0;36m1\u001b[0m \u001b[0;34m<=\u001b[0m \u001b[0mself\u001b[0m\u001b[0;34m.\u001b[0m\u001b[0m_k\u001b[0m\u001b[0;34m:\u001b[0m\u001b[0;34m\u001b[0m\u001b[0;34m\u001b[0m\u001b[0m\n",
      "\u001b[0;32m~/Postdoc/Datathon_LLM/Main_Repo/Task_1/eval.py\u001b[0m in \u001b[0;36mcheck_reactant_str\u001b[0;34m(self, reactant_str_1, reactant_str_2)\u001b[0m\n\u001b[1;32m     94\u001b[0m         \u001b[0;32melse\u001b[0m\u001b[0;34m:\u001b[0m\u001b[0;34m\u001b[0m\u001b[0;34m\u001b[0m\u001b[0m\n\u001b[1;32m     95\u001b[0m             \u001b[0;32mfor\u001b[0m \u001b[0mr_1\u001b[0m \u001b[0;32min\u001b[0m \u001b[0mr_1_list\u001b[0m\u001b[0;34m:\u001b[0m\u001b[0;34m\u001b[0m\u001b[0;34m\u001b[0m\u001b[0m\n\u001b[0;32m---> 96\u001b[0;31m                 \u001b[0;32mif\u001b[0m \u001b[0many\u001b[0m\u001b[0;34m(\u001b[0m\u001b[0mmap\u001b[0m\u001b[0;34m(\u001b[0m\u001b[0;32mlambda\u001b[0m \u001b[0mx\u001b[0m\u001b[0;34m:\u001b[0m \u001b[0mself\u001b[0m\u001b[0;34m.\u001b[0m\u001b[0mcompare_smiles\u001b[0m\u001b[0;34m(\u001b[0m\u001b[0mr_1\u001b[0m\u001b[0;34m,\u001b[0m \u001b[0mx\u001b[0m\u001b[0;34m)\u001b[0m\u001b[0;34m,\u001b[0m \u001b[0mr_2_list\u001b[0m\u001b[0;34m)\u001b[0m\u001b[0;34m)\u001b[0m\u001b[0;34m:\u001b[0m\u001b[0;34m\u001b[0m\u001b[0;34m\u001b[0m\u001b[0m\n\u001b[0m\u001b[1;32m     97\u001b[0m                     \u001b[0;32mif\u001b[0m \u001b[0mr_1\u001b[0m \u001b[0;34m==\u001b[0m \u001b[0mr_1_list\u001b[0m\u001b[0;34m[\u001b[0m\u001b[0;34m-\u001b[0m\u001b[0;36m1\u001b[0m\u001b[0;34m]\u001b[0m\u001b[0;34m:\u001b[0m\u001b[0;34m\u001b[0m\u001b[0;34m\u001b[0m\u001b[0m\n\u001b[1;32m     98\u001b[0m                         \u001b[0;32mreturn\u001b[0m \u001b[0;32mTrue\u001b[0m\u001b[0;34m\u001b[0m\u001b[0;34m\u001b[0m\u001b[0m\n",
      "\u001b[0;32m~/Postdoc/Datathon_LLM/Main_Repo/Task_1/eval.py\u001b[0m in \u001b[0;36m<lambda>\u001b[0;34m(x)\u001b[0m\n\u001b[1;32m     94\u001b[0m         \u001b[0;32melse\u001b[0m\u001b[0;34m:\u001b[0m\u001b[0;34m\u001b[0m\u001b[0;34m\u001b[0m\u001b[0m\n\u001b[1;32m     95\u001b[0m             \u001b[0;32mfor\u001b[0m \u001b[0mr_1\u001b[0m \u001b[0;32min\u001b[0m \u001b[0mr_1_list\u001b[0m\u001b[0;34m:\u001b[0m\u001b[0;34m\u001b[0m\u001b[0;34m\u001b[0m\u001b[0m\n\u001b[0;32m---> 96\u001b[0;31m                 \u001b[0;32mif\u001b[0m \u001b[0many\u001b[0m\u001b[0;34m(\u001b[0m\u001b[0mmap\u001b[0m\u001b[0;34m(\u001b[0m\u001b[0;32mlambda\u001b[0m \u001b[0mx\u001b[0m\u001b[0;34m:\u001b[0m \u001b[0mself\u001b[0m\u001b[0;34m.\u001b[0m\u001b[0mcompare_smiles\u001b[0m\u001b[0;34m(\u001b[0m\u001b[0mr_1\u001b[0m\u001b[0;34m,\u001b[0m \u001b[0mx\u001b[0m\u001b[0;34m)\u001b[0m\u001b[0;34m,\u001b[0m \u001b[0mr_2_list\u001b[0m\u001b[0;34m)\u001b[0m\u001b[0;34m)\u001b[0m\u001b[0;34m:\u001b[0m\u001b[0;34m\u001b[0m\u001b[0;34m\u001b[0m\u001b[0m\n\u001b[0m\u001b[1;32m     97\u001b[0m                     \u001b[0;32mif\u001b[0m \u001b[0mr_1\u001b[0m \u001b[0;34m==\u001b[0m \u001b[0mr_1_list\u001b[0m\u001b[0;34m[\u001b[0m\u001b[0;34m-\u001b[0m\u001b[0;36m1\u001b[0m\u001b[0;34m]\u001b[0m\u001b[0;34m:\u001b[0m\u001b[0;34m\u001b[0m\u001b[0;34m\u001b[0m\u001b[0m\n\u001b[1;32m     98\u001b[0m                         \u001b[0;32mreturn\u001b[0m \u001b[0;32mTrue\u001b[0m\u001b[0;34m\u001b[0m\u001b[0;34m\u001b[0m\u001b[0m\n",
      "\u001b[0;32m~/Postdoc/Datathon_LLM/Main_Repo/Task_1/eval.py\u001b[0m in \u001b[0;36mcompare_smiles\u001b[0;34m(self, smi1, smi2)\u001b[0m\n\u001b[1;32m     32\u001b[0m             \u001b[0;32mreturn\u001b[0m \u001b[0;32mFalse\u001b[0m\u001b[0;34m\u001b[0m\u001b[0;34m\u001b[0m\u001b[0m\n\u001b[1;32m     33\u001b[0m         smi1, smi2 = [\n\u001b[0;32m---> 34\u001b[0;31m             \u001b[0mChem\u001b[0m\u001b[0;34m.\u001b[0m\u001b[0mMolToSmiles\u001b[0m\u001b[0;34m(\u001b[0m\u001b[0mChem\u001b[0m\u001b[0;34m.\u001b[0m\u001b[0mMolFromSmiles\u001b[0m\u001b[0;34m(\u001b[0m\u001b[0msmi\u001b[0m\u001b[0;34m)\u001b[0m\u001b[0;34m,\u001b[0m \u001b[0mcanonical\u001b[0m\u001b[0;34m=\u001b[0m\u001b[0;32mTrue\u001b[0m\u001b[0;34m,\u001b[0m \u001b[0mkekuleSmiles\u001b[0m\u001b[0;34m=\u001b[0m\u001b[0;32mTrue\u001b[0m\u001b[0;34m)\u001b[0m \u001b[0;32mfor\u001b[0m \u001b[0msmi\u001b[0m \u001b[0;32min\u001b[0m \u001b[0;34m[\u001b[0m\u001b[0msmi1\u001b[0m\u001b[0;34m,\u001b[0m \u001b[0msmi2\u001b[0m\u001b[0;34m]\u001b[0m\u001b[0;34m\u001b[0m\u001b[0;34m\u001b[0m\u001b[0m\n\u001b[0m\u001b[1;32m     35\u001b[0m         ]\n\u001b[1;32m     36\u001b[0m         \u001b[0;32mreturn\u001b[0m \u001b[0msmi1\u001b[0m \u001b[0;34m==\u001b[0m \u001b[0msmi2\u001b[0m\u001b[0;34m\u001b[0m\u001b[0;34m\u001b[0m\u001b[0m\n",
      "\u001b[0;32m~/Postdoc/Datathon_LLM/Main_Repo/Task_1/eval.py\u001b[0m in \u001b[0;36m<listcomp>\u001b[0;34m(.0)\u001b[0m\n\u001b[1;32m     32\u001b[0m             \u001b[0;32mreturn\u001b[0m \u001b[0;32mFalse\u001b[0m\u001b[0;34m\u001b[0m\u001b[0;34m\u001b[0m\u001b[0m\n\u001b[1;32m     33\u001b[0m         smi1, smi2 = [\n\u001b[0;32m---> 34\u001b[0;31m             \u001b[0mChem\u001b[0m\u001b[0;34m.\u001b[0m\u001b[0mMolToSmiles\u001b[0m\u001b[0;34m(\u001b[0m\u001b[0mChem\u001b[0m\u001b[0;34m.\u001b[0m\u001b[0mMolFromSmiles\u001b[0m\u001b[0;34m(\u001b[0m\u001b[0msmi\u001b[0m\u001b[0;34m)\u001b[0m\u001b[0;34m,\u001b[0m \u001b[0mcanonical\u001b[0m\u001b[0;34m=\u001b[0m\u001b[0;32mTrue\u001b[0m\u001b[0;34m,\u001b[0m \u001b[0mkekuleSmiles\u001b[0m\u001b[0;34m=\u001b[0m\u001b[0;32mTrue\u001b[0m\u001b[0;34m)\u001b[0m \u001b[0;32mfor\u001b[0m \u001b[0msmi\u001b[0m \u001b[0;32min\u001b[0m \u001b[0;34m[\u001b[0m\u001b[0msmi1\u001b[0m\u001b[0;34m,\u001b[0m \u001b[0msmi2\u001b[0m\u001b[0;34m]\u001b[0m\u001b[0;34m\u001b[0m\u001b[0;34m\u001b[0m\u001b[0m\n\u001b[0m\u001b[1;32m     35\u001b[0m         ]\n\u001b[1;32m     36\u001b[0m         \u001b[0;32mreturn\u001b[0m \u001b[0msmi1\u001b[0m \u001b[0;34m==\u001b[0m \u001b[0msmi2\u001b[0m\u001b[0;34m\u001b[0m\u001b[0;34m\u001b[0m\u001b[0m\n",
      "\u001b[0;31mArgumentError\u001b[0m: Python argument types in\n    rdkit.Chem.rdmolfiles.MolToSmiles(NoneType)\ndid not match C++ signature:\n    MolToSmiles(RDKit::ROMol mol, bool isomericSmiles=True, bool kekuleSmiles=False, int rootedAtAtom=-1, bool canonical=True, bool allBondsExplicit=False, bool allHsExplicit=False, bool doRandom=False)\n    MolToSmiles(RDKit::ROMol mol, RDKit::SmilesWriteParams params)"
     ]
    }
   ],
   "source": [
    "topk(results, targets)"
   ]
  },
  {
   "cell_type": "code",
   "execution_count": 70,
   "metadata": {},
   "outputs": [
    {
     "data": {
      "text/plain": [
       "{'CC(=O)c1ccc2c(ccn2C(=O)OC(C)(C)C)c1': 'CC(=O)c1ccc2[nH]ccc2c1.CC(C)(C)OC(=O)OC(=O)OC(C)(C)C',\n",
       " 'Cc1ccc(S(=O)(=O)O[C@@H]2CN(C(=O)OC(C)(C)C)[C@@H]3[C@@H](O)CO[C@@H]32)cc1': 'CC(C)(C)OC(=O)OC(=O)OC(C)(C)C.Cc1ccc(S(=O)(=O)O[C@@H]2CN[C@@H]3[C@@H](O)CO[C@@H]32)cc1',\n",
       " 'CCOC(=O)c1nn(-c2ccc(Cl)cc2Cl)c(-c2ccc(OC)cc2)c1CBr': 'CCOC(=O)c1nn(-c2ccc(Cl)cc2Cl)c(-c2ccc(OC)cc2)c1C.O=C1CCC(=O)N1Br',\n",
       " 'CC(C)(C)OC(=O)Nc1nc2c(-c3cccc([N+](=O)[O-])c3)cc(C#N)cc2s1': 'CC(C)(C)OC(=O)OC(=O)OC(C)(C)C.N#Cc1cc(-c2cccc([N+](=O)[O-])c2)c2nc(N)sc2c1',\n",
       " 'O=C(NCc1ccccc1S(=O)(=O)C1CC1)C(F)(F)F': 'NCc1ccccc1S(=O)(=O)C1CC1.O=C(OC(=O)C(F)(F)F)C(F)(F)F',\n",
       " 'C[Si](C)(C)OC(=O)/C=C/CBr': 'C/C=C/C(=O)O[Si](C)(C)C.O=C1CCC(=O)N1Br',\n",
       " 'CC(C)(C)OC(=O)N1CCc2oc3c(Cl)cc(S(=O)c4ccccc4)cc3c2C1': 'CC(C)(C)OC(=O)N1CCc2oc3c(Cl)cc(Sc4ccccc4)cc3c2C1.O=C(OO)c1cccc(Cl)c1',\n",
       " 'CC(C)(C)OC(=O)n1cnc(C=O)c1': 'CC(C)(C)OC(=O)OC(=O)OC(C)(C)C.O=Cc1c[nH]cn1',\n",
       " 'Clc1cc(Cl)c(CBr)cn1': 'Cc1cnc(Cl)cc1Cl.O=C1CCC(=O)N1Br',\n",
       " 'COc1nc2ccc(C(=O)c3cnnn3C)cc2c(Cl)c1Cc1ccc(C(F)(F)F)cc1': 'COc1nc2ccc(C(O)c3cnnn3C)cc2c(Cl)c1Cc1ccc(C(F)(F)F)cc1',\n",
       " 'CC(=O)c1nc2cc(NC(=O)c3ccc(/C=C/C(F)(F)F)cc3C)ccc2s1': 'Cc1cc(/C=C/C(F)(F)F)ccc1C(=O)Nc1ccc2sc(C(C)O)nc2c1',\n",
       " 'CCOC(=O)C1CCC2(CC1)OCCO2': 'CCOC(=O)C1CCC(=O)CC1.OCCO',\n",
       " 'CCCCc1ncc(C(C)=O)n1Cc1ccccc1Cl': 'CCCCc1ncc(C(C)O)n1Cc1ccccc1Cl',\n",
       " 'CC1(c2cc3ccc[n+]([O-])c3[nH]2)CC1': 'CC1(c2cc3cccnc3[nH]2)CC1.O=C(OO)c1cccc(Cl)c1',\n",
       " 'O=Cc1ccc(F)c([N+](=O)[O-])c1': 'O=[N+]([O-])c1cc(CO)ccc1F',\n",
       " 'Cc1cccc(C#Cc2ccc(-c3ccnn3C)cc2)n1': 'Cc1cccc(C#C[Si](C)(C)C)n1.Cn1nccc1-c1ccc(Br)cc1',\n",
       " 'Nc1ccc(-c2c(F)cccc2C(F)(F)F)cc1[N+](=O)[O-]': 'CC1(C)OB(c2ccc(N)c([N+](=O)[O-])c2)OC1(C)C.Fc1cccc(C(F)(F)F)c1Br',\n",
       " 'CCNC(=O)Nc1cc(-c2nc(C(F)(F)F)cs2)c(-c2ccc3c(c2)c(=O)c(C(=O)OCC)cn3C(CC)CO)cn1': 'CCNC(=O)Nc1cc(-c2nc(C(F)(F)F)cs2)c(B2OC(C)(C)C(C)(C)O2)cn1.CCOC(=O)c1cn(C(CC)CO)c2ccc(I)cc2c1=O',\n",
       " 'Nc1ncc(Br)cc1C(=O)c1ccccc1': 'CON(C)C(=O)c1cc(Br)cnc1N.[Mg+]c1ccccc1',\n",
       " 'COCCn1cc(-c2cccc(CCOCCC(=O)OC(C)(C)C)c2)cn1': 'CC(C)(C)OC(=O)CCOCCc1cccc(Br)c1.COCCn1cc(B2OC(C)(C)C(C)(C)O2)cn1',\n",
       " 'CCOC(=O)CC(=O)CC(O)C=CC(=C(c1ccc(F)cc1)c1ccc(F)cc1)c1nnnn1CC': 'CCOC(=O)CC(C)=O.CCn1nnnc1C(C=CC=O)=C(c1ccc(F)cc1)c1ccc(F)cc1',\n",
       " 'COc1ccc(CN(c2nccs2)S(=O)(=O)c2ccc3c(c2)OCCN3c2ccc(C(F)(F)F)cc2-c2ccnn2C)cc1': 'COc1ccc(CN(c2nccs2)S(=O)(=O)c2ccc3c(c2)OCCN3c2ccc(C(F)(F)F)cc2Cl)cc1.Cn1nccc1B1OC(C)(C)C(C)(C)O1',\n",
       " 'CC(C)(C)OC(=O)N1CC=C(c2cccc([N+](=O)[O-])c2N)CC1': 'CC(C)(C)OC(=O)N1CC=C(B2OC(C)(C)C(C)(C)O2)CC1.Nc1c(Cl)cccc1[N+](=O)[O-]',\n",
       " 'Brc1cccc(-c2ccccn2)c1': 'Brc1ccccn1.OB(O)c1cccc(Br)c1'}"
      ]
     },
     "execution_count": 70,
     "metadata": {},
     "output_type": "execute_result"
    }
   ],
   "source": [
    "targets"
   ]
  },
  {
   "cell_type": "code",
   "execution_count": 56,
   "metadata": {},
   "outputs": [
    {
     "data": {
      "text/plain": [
       "{'CC(=O)c1ccc2c(ccn2C(=O)OC(C)(C)C)c1': ['CC(=O)c1ccc2[nH]ccc2c1.CC(C)(C)OC(=O)OC(=O)OC(C)(C)C',\n",
       "  'CC(=O)c1ccc(NC(=O)OC(C)(C)C)cc1.CC(C)(C)[O-]',\n",
       "  'CC(=O)c1ccc2[nH]ccc2c1.CON(C)C(=O)OC(C)(C)C',\n",
       "  'CC(=O)c1ccc2[nH]ccc2c1.CON(C)C(=O)OC(C)(C)C',\n",
       "  'CC(=O)c1ccc2[nH]ccc2c1.CON(C)C(=O)OC(C)(C)C',\n",
       "  'CC(=O)c1ccc2[nH]ccc2c1.CON(C)C(=O)OC(C)(C)C',\n",
       "  'CC(=O)c1ccc2[nH]ccc2c1.CON(C)C(=O)OC(C)(C)C',\n",
       "  'CC(=O)c1ccc2[nH]ccc2c1.COC(=O)c1ccc2c(ccn2C(=O)OC(C)(',\n",
       "  'CC(=O)c1ccc(NC(=O)OC(C)(C)C)cc1.CC(C)(C)[O-]',\n",
       "  'CC(=O)c1ccc(NC(=O)OC(C)(C)C)cc1.CC(C)(C)[O-]'],\n",
       " 'Cc1ccc(S(=O)(=O)O[C@@H]2CN(C(=O)OC(C)(C)C)[C@@H]3[C@@H](O)CO[C@@H]32)cc1': ['CC(C)(C)OC(=O)OC(=O)OC(C)(C)C.Cc1ccc(S(=O)(=O)O[C@@H]2CN[C@@H]3[C@@H](O)CO[C@@H]32)cc1',\n",
       "  'CC(C)(C)OC(=O)N1C[C@@H](O)[C@H]2OC[C@@H]21.Cc1ccc(S(=O)(=O)Cl)cc1',\n",
       "  'CC(C)(C)OC(=O)N1C[C@@H](O)[C@H]2OC[C@@H]21.Cc1ccc(S(=O)(=O)Cl)cc1',\n",
       "  'CC(C)(C)OC(=O)N1C[C@@H](O)[C@H]2OC[C@@H]21.Cc1ccc(S(=O)(=O)Cl)cc1',\n",
       "  'CC(C)(C)OC(=O)N1C[C@@H](O)[C@H]2OC[C@@H]21.Cc1ccc(S(=O)(=O)Cl)cc1',\n",
       "  'CC(C)(C)OC(=O)N1C[C@@H](O)[C@H]2OC[C@@H]21.Cc1ccc(S(=O)(=O)Cl)cc1',\n",
       "  'CC(C)(C)OC(=O)N1C[C@@H](O)[C@H]2OC[C@@H]21.Cc1ccc(S(=O)(=O)Cl)cc1',\n",
       "  'CC(C)(C)OC(=O)N1C[C@@H](O)[C@H]2OC[C@@H]21.Cc1ccc(S(=O)(=O)Cl)cc1',\n",
       "  'CC(C)(C)OC(=O)N1C[C@@H](O)[C@H]2OC[C@@H]21.Cc1ccc(S(=O)(=O)Cl)cc1',\n",
       "  'CC(C)(C)OC(=O)N1C[C@@H](O)[C@H]2OC[C@@H]21.Cc1ccc(S(=O)(=O)Cl)cc1'],\n",
       " 'CCOC(=O)c1nn(-c2ccc(Cl)cc2Cl)c(-c2ccc(OC)cc2)c1CBr': ['CCOC(=O)c1nn(-c2ccc(Cl)cc2Cl)c(-c2ccc(OC)cc2)c1C.O=C1CCC(=O)N1Br',\n",
       "  'CCOC(=O)c1nn(-c2ccc(Cl)cc4Cl)c(-c2ccc(OC)cc2)c1C.O=C1CCC(=O)N1Br',\n",
       "  'CCOC(=O)c1nn(-c2ccc(Cl)cc2Cl)c(-c2ccc(OC)cc2)c1C.O=C1C[C@@H]C(=O)N1Br',\n",
       "  'CCOC(=O)c1nn(-c2ccc(Cl)cc2Cl)c(-c2cccc(OC)cc2)c1C.O=C1CCC(=O)N1Br',\n",
       "  'CCOC(=O)c1nn(-c2ccc(Cl)cc2Cl)c(-c2ccc(OC)cc2)c1C.O=S([O-])([O-])=S',\n",
       "  'CCOC(=O)c1nn(-c2ccc(Cl)cc2Cl)c(-c2ccc(OC)cc2)c1C.O=S([O-])([O-])=S',\n",
       "  'CCO-(=O)c1nn(-c2ccc(Cl)cc2Cl)c(-c2ccc(OC)cc2)c1C.O=C1CCC(=O)N1Br',\n",
       "  'CCOC(=O)c1nn(-c2ccc(Cl)cc2Cl)c(-c2cccc(OC)c2)c1C.O=C1CCC(=O)N1Br',\n",
       "  'CCOC(=O)c1nn(-c2ccc(Cl)cc2Cl)c(-c2ccc(OC)c(Cl)c2)c1C.O=C1CCC(=O)N',\n",
       "  'CCOC(=O)c1nn(-c2ccc(Cl)cc2Cl)c(-c2cc(OC)cc2)c1C.O=C1CCC(=O)N1Br'],\n",
       " 'CC(C)(C)OC(=O)Nc1nc2c(-c3cccc([N+](=O)[O-])c3)cc(C#N)cc2s1': ['CC(C)(C)OC(=O)Nc1nc2c(Br)cc(C#N)cc2s1.O=[N+]([O-])c1cccc(B(O)O)c1',\n",
       "  'CC(C)(C)OC(=O)Nc1nc2c(B3OC(C)(C)C(C)(C)O3)cc(C#N)cc2s1.O=[N+](',\n",
       "  'CC(C)(C)OC(=O)Nc1nc2c(B(O)O)cc(C#N)cc2s1.O=[N+]([O-])c1cccc(B(O)O',\n",
       "  'CC(C)(C)OC(=O)Nc1nc2c(Br)cc(C#N)cc2s1.CC1(C)OB(c2cccc([N+](=O)[O-]',\n",
       "  'CC(C)(C)OC(=O)Nc1nc2c(I)cc(C#N)cc2s1.O=[N+]([O-])c1cccc(B(O)O)c1',\n",
       "  'CC(C)(C)OC(=O)Nc1nc2c(B2OC(C)(C)C(C)(C)O2)cc(C#N)cc2s1.O=[N+](',\n",
       "  'CC(C)(C)OC(=O)Nc1nc2c(-c3cccc([N+](=O)[O-])c3)cc(Br)cc2s1.[C-]#N',\n",
       "  'CC(C)(C)OC(=O)Nc1nc2c(-c3cccc([N+](=O)[O-])c3)cc(Br)cc2s1.[C-]#N',\n",
       "  'CC(C)(C)OC(=O)Nc1nc2c(-c3cccc([N+](=O)[O-])c3)cc(Br)cc2s1.[C-]#N',\n",
       "  'CC(C)(C)OC(=O)Nc1nc2c(-c3cccc([N+](=O)[O-])c3)cc(Br)cc2s1.[C-]#N'],\n",
       " 'O=C(NCc1ccccc1S(=O)(=O)C1CC1)C(F)(F)F': ['NCc1ccccc1S(=O)(=O)C1CC1.O=C(OC(=O)C(F)(F)F)C(F)(F)F',\n",
       "  'NCc1ccccc1S(=O)(=O)C1CC1.O=C(OC(=O)c1cccc(Cl)c1)C(F)(F',\n",
       "  'NCc1ccccc1S(=O)(=O)C1Cc1.O=C(OC(=O)C(F)(F)F)C(F)(F)F',\n",
       "  'NCc1cccnc1S(=O)(=O)C1CC1.O=C(OC(=O)C(F)(F)F)C(F)(F)F',\n",
       "  'NCc1cccsc1S(=O)(=O)C1CC1.O=C(OC(=O)C(F)(F)F)C(F)(F)F',\n",
       "  'NCc1ccccc1S(=O)(=O)C1CC1.O=C(OC(=O)c1ccccc1)C(F)(F)F',\n",
       "  'NCc1cc2ccccc2S(=O)(=O)C1CC1.O=C(OC(=O)C(F)(F)F)C(F)(F',\n",
       "  'NCc1ccc2ccccc2S(=O)(=O)C1CC1.O=C(OC(=O)C(F)(F)F)C(F)(',\n",
       "  'NCc1ccc(cc1S(=O)(=O)C1CC1.O=C(OC(=O)C(F)(F)F)C(F)(F)F',\n",
       "  'NCc1cccoc1S(=O)(=O)C1CC1.O=C(OC(=O)C(F)(F)F)C(F)(F)F'],\n",
       " 'C[Si](C)(C)OC(=O)/C=C/CBr': ['C/C=C/C(=O)O[Si](C)(C)C.O=C1CCC(=O)N1Br',\n",
       "  'C/C=C/C(=O)O[Si](C)(C)C',\n",
       "  'C/C=C/C(=O)O[Si](C)(C)C',\n",
       "  'C/C=C/C(=O)O[Si](C)(C)C',\n",
       "  'C/C=C/C(=O)O[Si](C)(C)C',\n",
       "  '/C=C/C(=O)O[Si](C)(C)C.O=C1CCC(=O)N1Br',\n",
       "  '/C=C/C(=O)O[Si](C)(C)C.O=C1CCC(=O)N1Br',\n",
       "  'C/C=C/C(=O)O[Si](C)(C)C',\n",
       "  'C/N=C/C(=O)O[Si](C)(C)C.O=C1CCC(=O)N1Br',\n",
       "  'C/C=C/C(=O)O[Si](C)(C)C'],\n",
       " 'CC(C)(C)OC(=O)N1CCc2oc3c(Cl)cc(S(=O)c4ccccc4)cc3c2C1': ['CC(C)(C)OC(=O)N1CCc2oc3c(Cl)cc(Sc4ccccc4)cc3c2C1.O=C(OO)c1cccc(Cl)c1',\n",
       "  'CC(C)(C)OC(=O)N1CCc2oc3c(Cl)cc(Sc4ccccc4)cc3c2C1.O=C([O-])O',\n",
       "  'CC(C)(C)OC(=O)N1CCc2oc3c(Cl)cc(Sc4ccccc4)cc3c2C1.O=C([O-])O',\n",
       "  'CC(C)(C)OC(=O)N1CCc2oc3c(Cl)cc(Sc4ccccc4)cc3c2C1.O=C([O-])O',\n",
       "  'CC(C)(C)OC(=O)N1CCc2oc3c(Cl)cc(Sc4ccccc4)cc3c2C1.O=C([O-])O',\n",
       "  'CC(C)(C)OC(=O)N1CCc2oc3c(Cl)cc(Sc4ccccc4)cc3c2C1.O=C([O-])O',\n",
       "  'CC(C)(C)OC(=O)N1CCc2oc3c(Cl)cc(Sc4ccccc4)cc3c2C1.O=C([O-])O',\n",
       "  'CC(C)(C)OC(=O)N1CCc2oc3c(Cl)cc(Sc4ccccc4)cc3c2C1.O=C([O-])O',\n",
       "  'CC(C)(C)OC(=O)N1CCc2oc3c(Cl)cc(Sc4ccccc4)cc3c2C1.O=C([O-])O',\n",
       "  'CC(C)(C)OC(=O)N1CCc2oc3c(Cl)cc(Sc4ccccc4)cc3c2C1.O=C([O-])O'],\n",
       " 'CC(C)(C)OC(=O)n1cnc(C=O)c1': ['CC(C)(C)OC(=O)OC(=O)OC(C)(C)C.O=Cc1c[nH]cn1',\n",
       "  'CC(C)(C)OC(=O)n1cnc(CO)c1',\n",
       "  'CC(C)(C)OC(=O)n1cnc(CO)c1',\n",
       "  'CC(C)(C)OC(=O)n1cnc(CO)c1',\n",
       "  'CC(C)(C)OC(=O)n1cnc(CO)c1',\n",
       "  'CC(C)(C)OC(=O)n1cnc(CO)c1',\n",
       "  'CC(C)(C)OC(=O)n1cnc(CO)c1',\n",
       "  'CC(C)(C)OC(=O)n1cnc(CO)c1',\n",
       "  'CC(C)(C)OC(=O)n1cnc(CO)c1',\n",
       "  'CC(C)(C)OC(=O)n1cnc(CO)c1'],\n",
       " 'Clc1cc(Cl)c(CBr)cn1': ['Cc1cnc(Cl)cc1Cl.O=C1CCC(=O)N1Br',\n",
       "  'Cc1cncc(Cl)c1Cl.O=C1CCC(=O)N1Br',\n",
       "  'Cc1nc(Cl)cc1Cl.O=C1CCC(=O)N1Br',\n",
       "  'Cc1nc(Cl)cc1Cl.O=C1CCC(=O)N1Br',\n",
       "  'c1cnc(Cl)cc1Cl.O=C1CCC(=O)N1Br',\n",
       "  'c1cnc(Cl)cc1Cl.O=C1CCC(=O)N1Br',\n",
       "  'Cc1cnc(F)cc1Cl.O=C1CCC(=O)N1Br',\n",
       "  'Cc1cnc(OC)cc1Cl.O=C1CCC(=O)N1Br',\n",
       "  'Cc1ccnc(Cl)c1Cl.O=C1CCC(=O)N1Br',\n",
       "  'Cc1cnc(-c2cc(Cl)cc(Cl)c2)cc1Cl.O'],\n",
       " 'COc1nc2ccc(C(=O)c3cnnn3C)cc2c(Cl)c1Cc1ccc(C(F)(F)F)cc1': ['COc1nc2ccc(C(O)c3cnnn3C)cc2c(Cl)c1Cc1ccc(C(F)(F)F)cc1',\n",
       "  'C[O-].Cn1nncc1C(=O)c1ccc2nc(Cl)c(Cc3ccc(C(F)(F)F)cc3)c(Cl)',\n",
       "  'Cn1nncc1C(=O)c1ccc2nc(Cl)c(Cc3ccc(C(F)(F)F)cc3)c(Cl)c2c',\n",
       "  'COc1nc2ccc(C(O)c3cnnn1C)cc2c(Cl)c1Cc1ccc(C(F)(F)F)cc1',\n",
       "  'Cn1nncc1C(=O)c1ccc2nc(O)c(Cc3ccc(C(F)(F)F)cc3)c(Cl)c2c',\n",
       "  'Cn1nncc1C(=O)c1ccc2nc(OS(=O)(=O)C(F)(F)F)c(Cc3ccc(C(F',\n",
       "  'Cn1nncc1C(=O)c1ccc2nc(OC)c(Cc3ccc(C(F)(F)F)cc3)c(Cl)c2',\n",
       "  'C[Si](C)(C)N=[N+]=[N-].COc1nc2ccc(C(=O)c3cnnn3C)cc2c(Cl)c1Cc1cc',\n",
       "  'COc1nc2ccc(C(O)c3cnnn3C)cc2c(Cl)c1Cc1cc(C(F)(F)F)cc1',\n",
       "  'COc1nc2ccc(C(O)c3cnnn3C)cc2c(Cl)c1Cc1cc(C(F)(F)F)cc1'],\n",
       " 'CC(=O)c1nc2cc(NC(=O)c3ccc(/C=C/C(F)(F)F)cc3C)ccc2s1': ['Cc1cc(/C=C/C(F)(F)F)ccc1C(=O)Nc1ccc2sc(C(C)O)nc2c1',\n",
       "  'Cc1cc(/C=C/C(F)(F)F)ccc1C(=O)Nc1ccc2sc(C3(C)OCCO3)n',\n",
       "  'CC(=O)c1nc2cc(N)ccc2s1.Cc1cc(/C=C/C(F)(F)F)ccc1C(=O',\n",
       "  'Cc1cc(/C=C/C(F)(F)F)ccc1C(=O)Nc1ccc2oc(C(C)O)nc2c1',\n",
       "  'Cc1cc(/C=C/c2ccc(C)c(C(=O)Nc3ccc4sc(C(C)O)nc4c3)c2)',\n",
       "  'Cc1cc(/C=C/C(F)(F)F)ccc1C(=O)Nc1ccc2sc(CC(C)O)nc2c1',\n",
       "  'Cc1cc(/C=C/C(F)(F)F)ccc1C(=O)Nc1ccn2sc(C(C)O)nc2c1',\n",
       "  'Cc1cc(/C=C/C(F)(F)F)ccc1C(=O)Nc1ccc2sc(C2(C)OCCO2)n',\n",
       "  'Cc1cc(/C=C/C(F)(F)F)ccc1C(=O)Nc1ccc(s1)nc1ccc2sc(C(',\n",
       "  'Cc1cc(/C=C/C(F)(F)F)ccc1C(=O)Nc1ccc2sc(C4(C)OCCO4)n'],\n",
       " 'CCOC(=O)C1CCC2(CC1)OCCO2': ['CCOC(=O)C1CCC(=O)CC1.OCCO',\n",
       "  'CCOC(=O)C1CCC=C(CC1)OCCO',\n",
       "  'CCOC(=O)C1CCC=C(CC1)OCCO',\n",
       "  'CCOC(=O)C1(C(=O)OCC)CCC2(C',\n",
       "  'CCOC(=O)C1CCC=C(CC1)OCCO1',\n",
       "  'CCOC(=O)C1(C(=O)OC)CCC2(CC',\n",
       "  'CCOC(=O)C1(CCC(=O)CC1)OCCO',\n",
       "  'CCOC(=O)C1=CCC2(CC1)OCCO2',\n",
       "  'CCOC(=O)C1C(=O)CCC2(CC1)OC',\n",
       "  'CCOC(=O)C1(CCC(=O)O)CC1.OC'],\n",
       " 'CCCCc1ncc(C(C)=O)n1Cc1ccccc1Cl': ['CCCCc1ncc(C(C)O)n1Cc1ccccc1Cl',\n",
       "  'CCCCc1ncc((C(C)O)n1Cc1ccccc1Cl',\n",
       "  'CCCCc1ncc(C(C)O)n1Cc1cccsc1Cl',\n",
       "  'CCCCc1ncc(C(C)O)n1Cc1ncccc1Cl',\n",
       "  'CCCCc1ncc(C(C)O)n1-c1ccccc1Cl',\n",
       "  'CCCCc1ncc(C(C)O',\n",
       "  'CCCCc1ncc(C(C)O',\n",
       "  'CCCCc1ncc(C(C)O)n1Cc1cccnc1Cl',\n",
       "  'CCCCc1ncc(C(=O)O)n1Cc1ccccc1Cl',\n",
       "  'CCCCc1ncc(C(C)O)n1Cc1ccscc1Cl'],\n",
       " 'CC1(c2cc3ccc[n+]([O-])c3[nH]2)CC1': ['CC1(c2cc3cccnc3[nH]2)CC1.O=S([O-])S(=O)(=O)[O-]',\n",
       "  'CC1(c2cc3ccnc3[nH]2)CC1.O=S([O-])S(=O)(=O)[O-]',\n",
       "  'CC1(c2cc3ccnc3[nH]2)CC1.O=S([O-])S(=O)(=O)[O-]',\n",
       "  'CC1(c2cc3cc[nH]c3[nH]2)CC1.O=S([O-])S(=O)(=O)[O-]',\n",
       "  'CC1(c2cc3cc[nH]c3[nH]2)CC1.O=S([O-])S(=O)(=O)[O-]',\n",
       "  'CC1(c2cc5cccnc3[nH]2)CC1.O=S([O-])S(=O)(=O)[O-]',\n",
       "  'CC1(c2cc5cccnc5[nH]2)CC1.O=S([O-])S(=O)(=O)[O-]',\n",
       "  'CC1(c2cc3cccn([O-])c3[nH]2)CC1.O=S([O-])S(=O)(=O',\n",
       "  'C[C@H]1(c2cc3cccnc3[nH]2)CC1.O=S([O-])S(=O)(=O)[O-]',\n",
       "  'CC1(c2cc3nccnc3[nH]2)CC1.O=S([O-])S(=O)(=O)[O-]'],\n",
       " 'O=Cc1ccc(F)c([N+](=O)[O-])c1': ['O=[N+]([O-])c1cc(CO)ccc1F',\n",
       "  'O=C(O)c1ccc(F)c([N+](=O',\n",
       "  'O=C(Cl)c1ccc(F)c([N+](=O',\n",
       "  'O=[N+]([O-])c1cc(C2OCCO2)c',\n",
       "  'O==[N+]([O-])c1cc(CO)ccc1F',\n",
       "  'O=N(O)c1cc(CO)ccc1F',\n",
       "  'O=O.O=[N+]([O-])c1cc(Br)ccc',\n",
       "  'O=S(=O)(Cl)c1cc(CO)cc',\n",
       "  'O=.O=[N+]([O-])c1cc(CO)ccc',\n",
       "  'O=Br.O=[N+]([O-])c1cc(CO)cc'],\n",
       " 'Cc1cccc(C#Cc2ccc(-c3ccnn3C)cc2)n1': ['C#Cc1ccc(-c2ccnn2C)cc1.Cc1cccc(Br)n1',\n",
       "  'C#Cc1cccc(C)n1.Cn1nccc1-c1ccc(I)cc1',\n",
       "  'C#Cc1ccc(-c2ccnn2C)cc1.Cc1cccc(I)n1',\n",
       "  'C#Cc1ccc(C)n1.Cn1nccc1-c1ccc(I)cc1',\n",
       "  'C#Cc1ccc(C)n1.Cn1nccc1-c1ccc(I)cc1',\n",
       "  'C#Cc1cccc(C)n1.Cn1nccc1-c1ccc(Br)cc1',\n",
       "  'C#Cc1ccc(C)n1.Cn1nccc1-c1ccc(Br)cc1',\n",
       "  'C#Cc1ccc(C)n1.Cn1nccc1-c1ccc(Br)cc1',\n",
       "  'C#Cc1cccc(-c2ccnn2C)c1.Cc1cccc(Br)n1',\n",
       "  'C#Cc1cccc(-c2ccnn2C)c1.Cc1cccc(I)n1'],\n",
       " 'Nc1ccc(-c2c(F)cccc2C(F)(F)F)cc1[N+](=O)[O-]': ['CC1(C)OB(c2ccc(N)c([N+](=O)[O-])c2)OC1(C)C.Fc1cccc(C(F)(F)F)c1Br',\n",
       "  'CC1(C)NB(c2ccc(N)c([N+](=O)[O-])c2)OC1(C)C.Fc1cccc(C(F)(F)F)c1Br',\n",
       "  'CC1(C)COB(c2ccc(N)c([N+](=O)[O-])c2)OC1.Fc1cccc(C(F)(F)F)c1Br',\n",
       "  'CC1(C)COB(c2ccc(N)c([N+](=O)[O-])c2)OC1.Fc1cccc(C(F)(F)F)c1Br',\n",
       "  'CC1(C)NOB(c2ccc(N)c([N+](=O)[O-])c2)OC1(C)C.Fc1cccc(C(F)(F)F)c1Br',\n",
       "  'CC1(C)COB(c2ccc(N)c([N+](=O)[O-])c2)OC1.Fc1cccc(C(F)(F)F)c1Br',\n",
       "  'CC1(C)COB(c2ccc(N)c([N+](=O)[O-])c2)OC1.Fc1cccc(C(F)(F)F)c1Br',\n",
       "  'CC1(C)OB(c2ccc(N)c([N+](=O)[O-])c2)OC1(C)C.Fc1cccc(C(F)(F)F)c1I',\n",
       "  'CC1(C)OB(c2ccc([N+](=O)[O-])c([N+](=O)[O-])c2)OC1(C)C.Fc1cccc(C(F)(F)F',\n",
       "  'Nc1ccc(Br)cc1[N+](=O)[O-].OB(O)c1c(F)cccc1C(F)(F)F'],\n",
       " 'CCNC(=O)Nc1cc(-c2nc(C(F)(F)F)cs2)c(-c2ccc3c(c2)c(=O)c(C(=O)OCC)cn3C(CC)CO)cn1': ['CCNC(=O)Nc1cc(-c2nc(C(F)(F)F)cs2)c(-c2ccc3c(c2)c(=O)c(C(=O)OCC)cn3C(CC)CO[Si](C)(C)C(C)(C)C)cn1',\n",
       "  'CCNC(=O)Nc1cc(-c2nc(C(F)(F)F)cs2)c(-c2ccc3c(c2)c(=O)c(C(=O)OCC)cn3C(CC)COCc2ccccc2)cn1',\n",
       "  'CCNC(=O)Nc1cc(-c2nc(C(F)(F)F)cs2)c(-c2ccc3c(c2)c(=O)c(C(=O)OCC)cn3C(CC)COCc2ccccc2)cn1',\n",
       "  'CCNC(=O)Nc1cc(-c2nc(C(F)(F)F)cs2)c(-c2ccc3c(c2)c(=O)c(C(=O)OCC)cn3C(CC)COCc2ccccc2)cn1',\n",
       "  'CCNC(=O)Nc1cc(-c2nc(C(F)(F)F)cs2)c(-c2ccc3c(c2)c(=O)c(C(=O)OCC)cn3C(CC)COCc2ccccc2)cn1',\n",
       "  'CCNC(=O)Nc1cc(-c2nc(C(F)(F)F)cs2)c(-c2ccc3c(c2)c(=O)c(C(=O)OCC)cn3C(CC)COCc2ccccc2)cn1',\n",
       "  'CCNC(=O)Nc1cc(-c2nc(C(F)(F)F)cs2)c(-c2ccc3c(c2)c(=O)c(C(=O)OCC)cn3C(CC)COCc2ccccc2)cn1',\n",
       "  'CCNC(=O)Nc1cc(-c2nc(C(F)(F)F)cs2)c(-c2ccc3c(c2)c(=O)c(C(=O)OCC)cn3C(CC)COCc2ccccc2)cn1',\n",
       "  'CCNC(=O)Nc1cc(-c2nc(C(F)(F)F)cs2)c(-c2ccc3c(c2)c(=O)c(C(=O)OCC)cn3C(CC)COC(C)=O)cn1',\n",
       "  'CCNC(=O)Nc1cc(-c2nc(C(F)(F)F)cs2)c(-c2ccc3c(c2)c(=O)c(C(=O)OCC)cn3C(CC)COCc2ccccc2)cn1'],\n",
       " 'Nc1ncc(Br)cc1C(=O)c1ccccc1': ['CON(C)C(=O)c1cc(Br)cnc1N.[Mg+]c1ccccc1',\n",
       "  'CON(C)C(=O)c1cc(Br)cnc1N.[Mg+]Cc1ccccc1',\n",
       "  'CON(C)C(=O)c1cn(Br)cnc1N.[Mg+]c1ccccc1',\n",
       "  'Nc1ncc(Br)cc1C(O)c1ccccc1',\n",
       "  'Nc1ncc(Br)cc1C(O)c1ccccc1',\n",
       "  'Nc1ncc(Br)cc1C(O)c1ccccc1',\n",
       "  'Nc1ncc(Br)cc1C(O)c1ccccc1',\n",
       "  'Nc1ncc(Br)cc1C(O)c1ccccc1',\n",
       "  'Nc1ncc(Br)cc1C(O)c1ccccc1',\n",
       "  'Nc1ncc(Br)cc1C(O)c1ccccc1'],\n",
       " 'COCCn1cc(-c2cccc(CCOCCC(=O)OC(C)(C)C)c2)cn1': ['CC(C)(C)OC(=O)CCOCCc1cccc(Br)c1.COCCn1cc(B2OC(C)(C)C(C)(C)O2)cn1',\n",
       "  'CC(C)(C)OC(=O)CCOCCc1cccc(B2OC(C)(C)C(C)(C)O2)c1.COCCn1cc(Br)cn1',\n",
       "  'CC(C)(C)OC(=O)CCOCCc1cccc(B(O)O)c1.COCCn1cc(Br)cn1',\n",
       "  'CC(C)(C)OC(=O)CCOCCc1cccc(B(O)O)c1.COCCn1cc(Br)cn1',\n",
       "  'CC(C)(C)OC(=O)CCOCCc1cccc(B(O)O)c1.COCCn1cc(Br)cn1',\n",
       "  'CC(C)(C)OC(=O)CCOCCc1cccc(B(O)O)c1.COCCn1cc(Br)cn1',\n",
       "  'CC(C)(C)OC(=O)CCOCCc1cccc(B(O)O)c1.COCCn1cc(Br)cn1',\n",
       "  'CC(C)(C)OC(=O)CCOCCc1cccc(B(O)O)c1.COCCn1cc(Br)cn1',\n",
       "  'CC(C)(C)OC(=O)CCOCCc1cccc(B(O)O)c1.COCCn1cc(Br)cn1',\n",
       "  'CC(C)(C)OC(=O)CCOCCc1cccc(B(O)O)c1.COCCn1cc(Br)cn1'],\n",
       " 'CCOC(=O)CC(=O)CC(O)C=CC(=C(c1ccc(F)cc1)c1ccc(F)cc1)c1nnnn1CC': ['CCOC(=O)CC(C)=O.CCn1nnnc1C(C=CC=O)=C(c1ccc(F)cc1)c1ccc(F)cc1',\n",
       "  'CCOC(=O)CC(C)=O.CCn1nnnc1C(C=O)=C(c1ccc(F)cc1)c1ccc(F)cc1',\n",
       "  'CCOC(=O)CC(C)=O.CCn1nnnc1C(C=O)=C(c1ccc(F)cc1)c1ccc(F)cc1',\n",
       "  'CCOC(=O)CC(C)=O.CCn1nnnc1C(C=O)=C(c1ccc(F)cc1)c1ccc(F)cc1',\n",
       "  'CCOC(=O)CC(C)=O.CCn1nnnc1C(C=O)=C(c1ccc(F)cc1)c1ccc(F)cc1',\n",
       "  'CCOC(=O)CC(C)=O.CCn1nnnc1C(C=O)=C(c1ccc(F)cc1)c1ccc(F)cc1',\n",
       "  'CCOC(=O)CC(C)(C)OCC.CCn1nnnc1C(C=CC=O)=C(c1ccc(F)cc1)c1ccc(F)',\n",
       "  'CCOC(=O)CC(CC)=O.CCn1nnnc1C(C=CC=O)=C(c1ccc(F)cc1)c1ccc(F)cc1',\n",
       "  'CCOC(=O)CC(C)=O.CCn1nnnc1C(C=CC=O)=C(c1ccc(F)c1)c1ccc(F)cc1',\n",
       "  'CCOC(=O)CC(C)=O.CCn1nnnc1C(C=CC=O)=C(c1ccc(F)c1)c1ccc(F)cc1'],\n",
       " 'COc1ccc(CN(c2nccs2)S(=O)(=O)c2ccc3c(c2)OCCN3c2ccc(C(F)(F)F)cc2-c2ccnn2C)cc1': ['COc1ccc(CN(c2nccs2)S(=O)(=O)c2ccc3c(c2)OCCN3c2ccc(C(F)(F)F)cc2Cl)cc1.Cn1nccc1B1OC(C)(C)C(C)(C)O1',\n",
       "  'COc1ccc(CN(c2nccs2)S(=O)(=O)c2ccc3c(c2)OCCN3c2ccc(C(F)(F)F)cc2I)cc1.Cn1nccc1B1OC(C)(C)C(C)(C)O1',\n",
       "  'COc1ccc(CN(c2ncns2)S(=O)(=O)c2ccc3c(c2)OCCN3c2ccc(C(F)(F)F)cc2Cl)cc1.Cn1nccc1B1OC(C)(C)C(C)(C)O1',\n",
       "  'COc1cccc(CN(c2nccs2)S(=O)(=O)c2ccc3c(c2)OCCN3c2ccc(C(F)(F)F)cc2Cl)cc1.Cn1nccc1B1OC(C)(C)C(C)(C)O1',\n",
       "  'COc1ccc(CN(c2nccs2)S(=O)(=O)c2ccc3c(c2)OCCN3c2ccc(C(F)(F)F)cc2Cl)cc1.Cn1nccc1B1OB(C)C(C)(C)O1',\n",
       "  'COc1ccc(CN(c2nccs2)S(=O)(=O)c2ccc3c(c2)OCCN3c2ccc(C(F)(F)F)cc2Cl)cc1.Cn1nccc1B1OB(C)C(C)(C)O1',\n",
       "  'COc1ccc(CN(c2nccs2)S(=O)(=O)c2ccc3c(c2)OCCN3c2ccc(C(F)(F)F)cc2Cl)cc1.Cn1nccc1B1OB(C)C(C)(C)O1',\n",
       "  'COc1ccc(CN(c2nccs2)S(=O)(=O)c2ccc3c(c2)OCCN3c2cccc(C(F)(F)F)cc2Cl)cc1.Cn1nccc1B1OC(C)(C)C(C)(C)O1',\n",
       "  'COc1ccc(CN(c2nccs2)S(=O)(=O)c2ccc3c(c2)OCCN3c2ccc(C(F)(F)F)cc2Cl)Cc2ccnn2C)cc1',\n",
       "  'COc1ccc(CN(c2nccs2)S(=O)(=O)c2ccc3c(c2)OCCN3c2ccc(C(F)(F)F)cc2Cl)Cc2ccnn2C)cc1'],\n",
       " 'CC(C)(C)OC(=O)N1CC=C(c2cccc([N+](=O)[O-])c2N)CC1': ['CC(C)(C)OC(=O)N1CC=C(B2OC(C)(C)C(C)(C)O2)CC1.Nc1c(Cl)cccc1[N+](=O)[O-]',\n",
       "  'CC(C)(C)OC(=O)N1CC=C(B2OC(C)(C)C(C)(C)O2)CC1.Nc1c(Br)cccc1[N+](=O)[O-]',\n",
       "  'CC(C)(C)OC(=O)N1CC=C(B(O)O)CC1.Nc1c(Cl)cccc1[N+](=O)[O-]',\n",
       "  'CC(C)(C)OC(=O)N1CC=C(B2OC(C)(C)C(C)(C)O2)CC1.N#Cc1cccc(Br)c1N',\n",
       "  'CC(C)(C)OC(=O)N1CC=C(B2OC(C)(C)C(C)(C)O2)CC1.N#Cc1cccc(Br)c1N',\n",
       "  'CC(C)(C)OC(=O)N1CC=C(B2OC(C)(C)C(C)(C)O2)NCC1.Nc1c(Cl)cccc1[N+](=O)[O-]',\n",
       "  'CC(C)(C)OC(=O)N1CC=C(B2OC(C)(C)C(C)(C)O2)CC1.Nc1c(F)cccc1[N+](=O)[O-]',\n",
       "  'CC(C)(C)OC(=O)N1CCNCC1.Nc1c(Cl)cccc1[N+](=O)[O-]',\n",
       "  'CC(C)(C)OC(=O)N1CC=C(B(O)O)CC1.Nc1c(Cl)cccc1[N+](=O)[O-]',\n",
       "  'CC(C)(C)OC(=O)N1CC=C(B2OC(C)(C)C(C)(C)O2)CC1.N#Cc1cccc(Br)c1N'],\n",
       " 'Brc1cccc(-c2ccccn2)c1': ['Brc1cccc(I)c1.CCCC[Sn](CCCC)(CCCC)c1ccccn1',\n",
       "  'Brc1ccccn1.OB(O)c1cccc(Br)c1',\n",
       "  'Brc1ccccn1.OB(O)c1cccc(Br)c1',\n",
       "  'Brc1ccccn1.OB(O)c1cccc(Br)c1',\n",
       "  'Brc1ccccn1.OB(O)c1cccc(Br)c1',\n",
       "  'Brc1ccccn1.OB(O)c1cccc(Br)c1',\n",
       "  'Brc1ccccn1.OB(O)c1cccc(Br)c1',\n",
       "  'Brc1ccccn1.OB(O)c1cccc(Br)c1',\n",
       "  'Brc1ccccn1.OB(O)c1cccc(Br)c1',\n",
       "  'Brc1ccccn1.OB(O)c1cccc(Br)c1']}"
      ]
     },
     "execution_count": 56,
     "metadata": {},
     "output_type": "execute_result"
    }
   ],
   "source": [
    "results"
   ]
  },
  {
   "cell_type": "code",
   "execution_count": null,
   "metadata": {},
   "outputs": [],
   "source": []
  }
 ],
 "metadata": {
  "kernelspec": {
   "display_name": "Datathon_RetroTask",
   "language": "python",
   "name": "datathon_retrotask"
  },
  "language_info": {
   "codemirror_mode": {
    "name": "ipython",
    "version": 3
   },
   "file_extension": ".py",
   "mimetype": "text/x-python",
   "name": "python",
   "nbconvert_exporter": "python",
   "pygments_lexer": "ipython3",
   "version": "3.6.13"
  }
 },
 "nbformat": 4,
 "nbformat_minor": 2
}
